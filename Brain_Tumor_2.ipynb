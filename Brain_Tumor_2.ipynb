{
  "nbformat": 4,
  "nbformat_minor": 0,
  "metadata": {
    "colab": {
      "provenance": [],
      "gpuType": "T4",
      "authorship_tag": "ABX9TyMpnroRrsNI2MgN0oeoE+Pi",
      "include_colab_link": true
    },
    "kernelspec": {
      "name": "python3",
      "display_name": "Python 3"
    },
    "language_info": {
      "name": "python"
    },
    "accelerator": "GPU"
  },
  "cells": [
    {
      "cell_type": "markdown",
      "metadata": {
        "id": "view-in-github",
        "colab_type": "text"
      },
      "source": [
        "<a href=\"https://colab.research.google.com/github/MB-13/Brain-tumor-classification-using-Fine-Tuning/blob/main/Brain_Tumor_2.ipynb\" target=\"_parent\"><img src=\"https://colab.research.google.com/assets/colab-badge.svg\" alt=\"Open In Colab\"/></a>"
      ]
    },
    {
      "cell_type": "code",
      "execution_count": null,
      "metadata": {
        "id": "jWN_OYf-hWF_"
      },
      "outputs": [],
      "source": []
    },
    {
      "cell_type": "code",
      "execution_count": null,
      "metadata": {
        "id": "tD1yqBnbqPvJ"
      },
      "outputs": [],
      "source": [
        "!mkdir -p ~/.kaggle\n",
        "!cp kaggle.json ~/.kaggle/"
      ]
    },
    {
      "cell_type": "code",
      "execution_count": null,
      "metadata": {
        "colab": {
          "base_uri": "https://localhost:8080/"
        },
        "id": "0YYHXf8erPrE",
        "outputId": "f37a6fc2-c2ca-4fca-fa16-d2005f59343c"
      },
      "outputs": [
        {
          "output_type": "stream",
          "name": "stdout",
          "text": [
            "Warning: Your Kaggle API key is readable by other users on this system! To fix this, you can run 'chmod 600 /root/.kaggle/kaggle.json'\n",
            "Downloading brain-tumor-classification-mri.zip to /content\n",
            " 65% 56.0M/86.8M [00:00<00:00, 209MB/s] \n",
            "100% 86.8M/86.8M [00:00<00:00, 214MB/s]\n",
            "Warning: Your Kaggle API key is readable by other users on this system! To fix this, you can run 'chmod 600 /root/.kaggle/kaggle.json'\n",
            "Downloading brain-tumor.zip to /content\n",
            "100% 697M/700M [00:11<00:00, 60.8MB/s]\n",
            "100% 700M/700M [00:11<00:00, 62.2MB/s]\n"
          ]
        }
      ],
      "source": [
        "!kaggle datasets download -d sartajbhuvaji/brain-tumor-classification-mri\n",
        "!kaggle datasets download -d denizkavi1/brain-tumor"
      ]
    },
    {
      "cell_type": "code",
      "execution_count": null,
      "metadata": {
        "id": "sWlQbB2irfr_"
      },
      "outputs": [],
      "source": [
        "import zipfile\n",
        "zip_ref = zipfile.ZipFile('/content/brain-tumor-classification-mri.zip')\n",
        "zip_ref_2 = zipfile.ZipFile('/content/brain-tumor.zip')\n",
        "zip_ref.extractall('/content')\n",
        "zip_ref_2.extractall('/content')\n",
        "zip_ref.close()\n",
        "zip_ref_2.close()"
      ]
    },
    {
      "cell_type": "code",
      "execution_count": null,
      "metadata": {
        "id": "jAQ8cUN5r1qZ"
      },
      "outputs": [],
      "source": [
        "import os\n",
        "import pandas as pd\n",
        "import numpy as np\n",
        "import tensorflow as tp\n",
        "from tensorflow import keras\n",
        "from keras import Sequential\n",
        "from sklearn.model_selection import train_test_split\n",
        "from keras.preprocessing.image import ImageDataGenerator\n",
        "from sklearn.model_selection import cross_val_score\n",
        "from keras.layers import Conv2D,Dense,MaxPooling2D,BatchNormalization,Dropout,Flatten"
      ]
    },
    {
      "cell_type": "code",
      "execution_count": null,
      "metadata": {
        "id": "8TKn5Cje3kTx"
      },
      "outputs": [],
      "source": []
    },
    {
      "cell_type": "markdown",
      "metadata": {
        "id": "obGZEcqYtr6D"
      },
      "source": [
        "**Gathering** **Dataset**"
      ]
    },
    {
      "cell_type": "code",
      "execution_count": null,
      "metadata": {
        "id": "GMQQ6LsPtUPU"
      },
      "outputs": [],
      "source": [
        "import PIL"
      ]
    },
    {
      "cell_type": "code",
      "execution_count": null,
      "metadata": {
        "id": "shOz8KYZtlrA"
      },
      "outputs": [],
      "source": [
        "data_dir = '/content/Training'\n",
        "test_data_dir = '/content/Testing'\n",
        "data_meni_1 = '/content/1'\n",
        "data_glio_2 = '/content/2'\n",
        "data_pitu_3 = '/content/3'"
      ]
    },
    {
      "cell_type": "code",
      "execution_count": null,
      "metadata": {
        "colab": {
          "base_uri": "https://localhost:8080/"
        },
        "id": "5kSIVnfoumjm",
        "outputId": "184e0535-c3f7-4eb8-fa4a-87878af7994a"
      },
      "outputs": [
        {
          "output_type": "stream",
          "name": "stdout",
          "text": [
            "/content/Training\n"
          ]
        }
      ],
      "source": [
        "import pathlib\n",
        "data_dir = pathlib.Path(data_dir)\n",
        "test_data_dir = pathlib.Path(test_data_dir)\n",
        "data_meni_1 = pathlib.Path(data_meni_1)\n",
        "data_glio_2 = pathlib.Path(data_glio_2)\n",
        "data_pitu_3 = pathlib.Path(data_pitu_3)\n",
        "print(data_dir)"
      ]
    },
    {
      "cell_type": "code",
      "execution_count": null,
      "metadata": {
        "colab": {
          "base_uri": "https://localhost:8080/"
        },
        "id": "7uYEfO03uzPN",
        "outputId": "25fd08d4-e415-4511-bd6a-ade25807b313"
      },
      "outputs": [
        {
          "output_type": "execute_result",
          "data": {
            "text/plain": [
              "708"
            ]
          },
          "metadata": {},
          "execution_count": 8
        }
      ],
      "source": [
        "image_count = len(list(data_dir.glob('*/*.jpg')))\n",
        "image_count\n",
        "image_count_t = len(list(test_data_dir.glob('*/*.jpg')))\n",
        "image_count_t\n",
        "len(list(data_meni_1.glob('*.png')))"
      ]
    },
    {
      "cell_type": "code",
      "execution_count": null,
      "metadata": {
        "id": "B74YYwCn3QnC"
      },
      "outputs": [],
      "source": [
        "# print(len(list(data_dir.glob('glioma_tumor/*'))))\n",
        "# print(len(list(data_dir.glob('meningioma_tumor/*'))))\n",
        "# print(len(list(data_dir.glob('no_tumor/*'))))\n",
        "# print(len(list(data_dir.glob('pituitary_tumor/*'))))"
      ]
    },
    {
      "cell_type": "code",
      "execution_count": null,
      "metadata": {
        "id": "KxmkWaVJ8UJK"
      },
      "outputs": [],
      "source": [
        "# print(len(list(test_data_dir.glob('glioma_tumor/*'))))\n",
        "# print(len(list(test_data_dir.glob('meningioma_tumor/*'))))\n",
        "# print(len(list(test_data_dir.glob('no_tumor/*'))))\n",
        "# print(len(list(test_data_dir.glob('pituitary_tumor/*'))))"
      ]
    },
    {
      "cell_type": "code",
      "execution_count": null,
      "metadata": {
        "id": "TmAUO1F6vPbQ"
      },
      "outputs": [],
      "source": [
        "brain_images_dict = {\n",
        "    'glioma_tumor' : list(data_dir.glob('glioma_tumor/*')),\n",
        "    'meningioma_tumor' : list(data_dir.glob('meningioma_tumor/*')),\n",
        "    'no_tumor' : list(data_dir.glob('no_tumor/*')),\n",
        "    'pituitary_tumor' : list(data_dir.glob('pituitary_tumor/*'))\n",
        "}\n",
        "\n",
        "sec_data_images = {\n",
        "    'meningioma_tumor' : list(data_meni_1.glob('*.png')),\n",
        "    'glioma_tumor' : list(data_glio_2.glob('*.png')),\n",
        "    'pituitary_tumor' : list(data_pitu_3.glob('*.png'))\n",
        "}\n",
        "\n",
        "test_brain_images_dict = {\n",
        "    'glioma_tumor' : list(test_data_dir.glob('glioma_tumor/*')),\n",
        "    'meningioma_tumor' : list(test_data_dir.glob('meningioma_tumor/*')),\n",
        "    'no_tumor' : list(test_data_dir.glob('no_tumor/*')),\n",
        "    'pituitary_tumor' : list(test_data_dir.glob('pituitary_tumor/*'))\n",
        "}\n",
        "\n",
        "brain_label_dict = {\n",
        "    'glioma_tumor' : 0,\n",
        "    'meningioma_tumor' : 1,\n",
        "    'no_tumor' : 2,\n",
        "    'pituitary_tumor' : 3\n",
        "}\n",
        "\n",
        "sec_data_label = {\n",
        "    'meningioma_tumor' : 1,\n",
        "    'glioma_tumor' : 0,\n",
        "    'pituitary_tumor' : 3\n",
        "}"
      ]
    },
    {
      "cell_type": "code",
      "execution_count": null,
      "metadata": {
        "colab": {
          "base_uri": "https://localhost:8080/",
          "height": 36
        },
        "id": "1mptwIIa2hi5",
        "outputId": "79618b45-c0ff-4d81-ec43-72cfffb3e006"
      },
      "outputs": [
        {
          "output_type": "execute_result",
          "data": {
            "text/plain": [
              "'/content/3/1430.png'"
            ],
            "application/vnd.google.colaboratory.intrinsic+json": {
              "type": "string"
            }
          },
          "metadata": {},
          "execution_count": 12
        }
      ],
      "source": [
        "import cv2\n",
        "str(brain_images_dict['no_tumor'][5])\n",
        "str(sec_data_images['pituitary_tumor'][1])"
      ]
    },
    {
      "cell_type": "code",
      "execution_count": null,
      "metadata": {
        "id": "UJLfmJBQEyxS"
      },
      "outputs": [],
      "source": [
        "df = pd.DataFrame(columns=[\"image_paths\", \"label\"])"
      ]
    },
    {
      "cell_type": "code",
      "execution_count": null,
      "metadata": {
        "id": "35iUNXTP3Asx"
      },
      "outputs": [],
      "source": [
        "X,y = [],[]\n",
        "\n",
        "for tumor_class,images in brain_images_dict.items():\n",
        "  for image in images:\n",
        "    img = str(image)\n",
        "    X.append(img)\n",
        "    y.append(brain_label_dict[tumor_class])\n",
        "\n",
        "for tumor_class,images in test_brain_images_dict.items():\n",
        "  for image in images:\n",
        "    img = str(image)\n",
        "    X.append(img)\n",
        "    y.append(brain_label_dict[tumor_class])\n",
        "\n",
        "for tumor_class,images in sec_data_images.items():\n",
        "  for image in images:\n",
        "    img = str(image)\n",
        "    X.append(img)\n",
        "    y.append(sec_data_label[tumor_class])"
      ]
    },
    {
      "cell_type": "code",
      "execution_count": null,
      "metadata": {
        "id": "elFgnR8zE7U2"
      },
      "outputs": [],
      "source": [
        "for i in range(len(X)):\n",
        "  df.loc[i] = [X[i], str(y[i])]"
      ]
    },
    {
      "cell_type": "code",
      "source": [
        "df.shape"
      ],
      "metadata": {
        "colab": {
          "base_uri": "https://localhost:8080/"
        },
        "id": "RBLyWqN2g0DH",
        "outputId": "7bbd0444-8f7b-4b5e-d707-7c31acbfc069"
      },
      "execution_count": null,
      "outputs": [
        {
          "output_type": "execute_result",
          "data": {
            "text/plain": [
              "(6328, 2)"
            ]
          },
          "metadata": {},
          "execution_count": 16
        }
      ]
    },
    {
      "cell_type": "code",
      "execution_count": null,
      "metadata": {
        "colab": {
          "base_uri": "https://localhost:8080/",
          "height": 363
        },
        "id": "oQ25kvilEDww",
        "outputId": "fd9cc694-7d09-4b69-fe21-c091cda6bb36"
      },
      "outputs": [
        {
          "output_type": "execute_result",
          "data": {
            "text/plain": [
              "                                        image_paths label\n",
              "2781   /content/Training/pituitary_tumor/p (82).jpg     3\n",
              "5633                            /content/3/2044.png     3\n",
              "6148                            /content/3/1729.png     3\n",
              "2145  /content/Training/pituitary_tumor/p (215).jpg     3\n",
              "631      /content/Training/glioma_tumor/gg (21).jpg     0\n",
              "4839                             /content/2/106.png     0\n",
              "858    /content/Training/meningioma_tumor/m1(8).jpg     1\n",
              "5933                            /content/3/1013.png     3\n",
              "1694       /content/Training/no_tumor/image(30).jpg     2\n",
              "515     /content/Training/glioma_tumor/gg (505).jpg     0"
            ],
            "text/html": [
              "\n",
              "  <div id=\"df-789479f4-f260-4b0e-9d3a-68cd3acb01d2\" class=\"colab-df-container\">\n",
              "    <div>\n",
              "<style scoped>\n",
              "    .dataframe tbody tr th:only-of-type {\n",
              "        vertical-align: middle;\n",
              "    }\n",
              "\n",
              "    .dataframe tbody tr th {\n",
              "        vertical-align: top;\n",
              "    }\n",
              "\n",
              "    .dataframe thead th {\n",
              "        text-align: right;\n",
              "    }\n",
              "</style>\n",
              "<table border=\"1\" class=\"dataframe\">\n",
              "  <thead>\n",
              "    <tr style=\"text-align: right;\">\n",
              "      <th></th>\n",
              "      <th>image_paths</th>\n",
              "      <th>label</th>\n",
              "    </tr>\n",
              "  </thead>\n",
              "  <tbody>\n",
              "    <tr>\n",
              "      <th>2781</th>\n",
              "      <td>/content/Training/pituitary_tumor/p (82).jpg</td>\n",
              "      <td>3</td>\n",
              "    </tr>\n",
              "    <tr>\n",
              "      <th>5633</th>\n",
              "      <td>/content/3/2044.png</td>\n",
              "      <td>3</td>\n",
              "    </tr>\n",
              "    <tr>\n",
              "      <th>6148</th>\n",
              "      <td>/content/3/1729.png</td>\n",
              "      <td>3</td>\n",
              "    </tr>\n",
              "    <tr>\n",
              "      <th>2145</th>\n",
              "      <td>/content/Training/pituitary_tumor/p (215).jpg</td>\n",
              "      <td>3</td>\n",
              "    </tr>\n",
              "    <tr>\n",
              "      <th>631</th>\n",
              "      <td>/content/Training/glioma_tumor/gg (21).jpg</td>\n",
              "      <td>0</td>\n",
              "    </tr>\n",
              "    <tr>\n",
              "      <th>4839</th>\n",
              "      <td>/content/2/106.png</td>\n",
              "      <td>0</td>\n",
              "    </tr>\n",
              "    <tr>\n",
              "      <th>858</th>\n",
              "      <td>/content/Training/meningioma_tumor/m1(8).jpg</td>\n",
              "      <td>1</td>\n",
              "    </tr>\n",
              "    <tr>\n",
              "      <th>5933</th>\n",
              "      <td>/content/3/1013.png</td>\n",
              "      <td>3</td>\n",
              "    </tr>\n",
              "    <tr>\n",
              "      <th>1694</th>\n",
              "      <td>/content/Training/no_tumor/image(30).jpg</td>\n",
              "      <td>2</td>\n",
              "    </tr>\n",
              "    <tr>\n",
              "      <th>515</th>\n",
              "      <td>/content/Training/glioma_tumor/gg (505).jpg</td>\n",
              "      <td>0</td>\n",
              "    </tr>\n",
              "  </tbody>\n",
              "</table>\n",
              "</div>\n",
              "    <div class=\"colab-df-buttons\">\n",
              "\n",
              "  <div class=\"colab-df-container\">\n",
              "    <button class=\"colab-df-convert\" onclick=\"convertToInteractive('df-789479f4-f260-4b0e-9d3a-68cd3acb01d2')\"\n",
              "            title=\"Convert this dataframe to an interactive table.\"\n",
              "            style=\"display:none;\">\n",
              "\n",
              "  <svg xmlns=\"http://www.w3.org/2000/svg\" height=\"24px\" viewBox=\"0 -960 960 960\">\n",
              "    <path d=\"M120-120v-720h720v720H120Zm60-500h600v-160H180v160Zm220 220h160v-160H400v160Zm0 220h160v-160H400v160ZM180-400h160v-160H180v160Zm440 0h160v-160H620v160ZM180-180h160v-160H180v160Zm440 0h160v-160H620v160Z\"/>\n",
              "  </svg>\n",
              "    </button>\n",
              "\n",
              "  <style>\n",
              "    .colab-df-container {\n",
              "      display:flex;\n",
              "      gap: 12px;\n",
              "    }\n",
              "\n",
              "    .colab-df-convert {\n",
              "      background-color: #E8F0FE;\n",
              "      border: none;\n",
              "      border-radius: 50%;\n",
              "      cursor: pointer;\n",
              "      display: none;\n",
              "      fill: #1967D2;\n",
              "      height: 32px;\n",
              "      padding: 0 0 0 0;\n",
              "      width: 32px;\n",
              "    }\n",
              "\n",
              "    .colab-df-convert:hover {\n",
              "      background-color: #E2EBFA;\n",
              "      box-shadow: 0px 1px 2px rgba(60, 64, 67, 0.3), 0px 1px 3px 1px rgba(60, 64, 67, 0.15);\n",
              "      fill: #174EA6;\n",
              "    }\n",
              "\n",
              "    .colab-df-buttons div {\n",
              "      margin-bottom: 4px;\n",
              "    }\n",
              "\n",
              "    [theme=dark] .colab-df-convert {\n",
              "      background-color: #3B4455;\n",
              "      fill: #D2E3FC;\n",
              "    }\n",
              "\n",
              "    [theme=dark] .colab-df-convert:hover {\n",
              "      background-color: #434B5C;\n",
              "      box-shadow: 0px 1px 3px 1px rgba(0, 0, 0, 0.15);\n",
              "      filter: drop-shadow(0px 1px 2px rgba(0, 0, 0, 0.3));\n",
              "      fill: #FFFFFF;\n",
              "    }\n",
              "  </style>\n",
              "\n",
              "    <script>\n",
              "      const buttonEl =\n",
              "        document.querySelector('#df-789479f4-f260-4b0e-9d3a-68cd3acb01d2 button.colab-df-convert');\n",
              "      buttonEl.style.display =\n",
              "        google.colab.kernel.accessAllowed ? 'block' : 'none';\n",
              "\n",
              "      async function convertToInteractive(key) {\n",
              "        const element = document.querySelector('#df-789479f4-f260-4b0e-9d3a-68cd3acb01d2');\n",
              "        const dataTable =\n",
              "          await google.colab.kernel.invokeFunction('convertToInteractive',\n",
              "                                                    [key], {});\n",
              "        if (!dataTable) return;\n",
              "\n",
              "        const docLinkHtml = 'Like what you see? Visit the ' +\n",
              "          '<a target=\"_blank\" href=https://colab.research.google.com/notebooks/data_table.ipynb>data table notebook</a>'\n",
              "          + ' to learn more about interactive tables.';\n",
              "        element.innerHTML = '';\n",
              "        dataTable['output_type'] = 'display_data';\n",
              "        await google.colab.output.renderOutput(dataTable, element);\n",
              "        const docLink = document.createElement('div');\n",
              "        docLink.innerHTML = docLinkHtml;\n",
              "        element.appendChild(docLink);\n",
              "      }\n",
              "    </script>\n",
              "  </div>\n",
              "\n",
              "\n",
              "<div id=\"df-e75db21d-a976-4b87-8967-4aeba78c89e3\">\n",
              "  <button class=\"colab-df-quickchart\" onclick=\"quickchart('df-e75db21d-a976-4b87-8967-4aeba78c89e3')\"\n",
              "            title=\"Suggest charts\"\n",
              "            style=\"display:none;\">\n",
              "\n",
              "<svg xmlns=\"http://www.w3.org/2000/svg\" height=\"24px\"viewBox=\"0 0 24 24\"\n",
              "     width=\"24px\">\n",
              "    <g>\n",
              "        <path d=\"M19 3H5c-1.1 0-2 .9-2 2v14c0 1.1.9 2 2 2h14c1.1 0 2-.9 2-2V5c0-1.1-.9-2-2-2zM9 17H7v-7h2v7zm4 0h-2V7h2v10zm4 0h-2v-4h2v4z\"/>\n",
              "    </g>\n",
              "</svg>\n",
              "  </button>\n",
              "\n",
              "<style>\n",
              "  .colab-df-quickchart {\n",
              "      --bg-color: #E8F0FE;\n",
              "      --fill-color: #1967D2;\n",
              "      --hover-bg-color: #E2EBFA;\n",
              "      --hover-fill-color: #174EA6;\n",
              "      --disabled-fill-color: #AAA;\n",
              "      --disabled-bg-color: #DDD;\n",
              "  }\n",
              "\n",
              "  [theme=dark] .colab-df-quickchart {\n",
              "      --bg-color: #3B4455;\n",
              "      --fill-color: #D2E3FC;\n",
              "      --hover-bg-color: #434B5C;\n",
              "      --hover-fill-color: #FFFFFF;\n",
              "      --disabled-bg-color: #3B4455;\n",
              "      --disabled-fill-color: #666;\n",
              "  }\n",
              "\n",
              "  .colab-df-quickchart {\n",
              "    background-color: var(--bg-color);\n",
              "    border: none;\n",
              "    border-radius: 50%;\n",
              "    cursor: pointer;\n",
              "    display: none;\n",
              "    fill: var(--fill-color);\n",
              "    height: 32px;\n",
              "    padding: 0;\n",
              "    width: 32px;\n",
              "  }\n",
              "\n",
              "  .colab-df-quickchart:hover {\n",
              "    background-color: var(--hover-bg-color);\n",
              "    box-shadow: 0 1px 2px rgba(60, 64, 67, 0.3), 0 1px 3px 1px rgba(60, 64, 67, 0.15);\n",
              "    fill: var(--button-hover-fill-color);\n",
              "  }\n",
              "\n",
              "  .colab-df-quickchart-complete:disabled,\n",
              "  .colab-df-quickchart-complete:disabled:hover {\n",
              "    background-color: var(--disabled-bg-color);\n",
              "    fill: var(--disabled-fill-color);\n",
              "    box-shadow: none;\n",
              "  }\n",
              "\n",
              "  .colab-df-spinner {\n",
              "    border: 2px solid var(--fill-color);\n",
              "    border-color: transparent;\n",
              "    border-bottom-color: var(--fill-color);\n",
              "    animation:\n",
              "      spin 1s steps(1) infinite;\n",
              "  }\n",
              "\n",
              "  @keyframes spin {\n",
              "    0% {\n",
              "      border-color: transparent;\n",
              "      border-bottom-color: var(--fill-color);\n",
              "      border-left-color: var(--fill-color);\n",
              "    }\n",
              "    20% {\n",
              "      border-color: transparent;\n",
              "      border-left-color: var(--fill-color);\n",
              "      border-top-color: var(--fill-color);\n",
              "    }\n",
              "    30% {\n",
              "      border-color: transparent;\n",
              "      border-left-color: var(--fill-color);\n",
              "      border-top-color: var(--fill-color);\n",
              "      border-right-color: var(--fill-color);\n",
              "    }\n",
              "    40% {\n",
              "      border-color: transparent;\n",
              "      border-right-color: var(--fill-color);\n",
              "      border-top-color: var(--fill-color);\n",
              "    }\n",
              "    60% {\n",
              "      border-color: transparent;\n",
              "      border-right-color: var(--fill-color);\n",
              "    }\n",
              "    80% {\n",
              "      border-color: transparent;\n",
              "      border-right-color: var(--fill-color);\n",
              "      border-bottom-color: var(--fill-color);\n",
              "    }\n",
              "    90% {\n",
              "      border-color: transparent;\n",
              "      border-bottom-color: var(--fill-color);\n",
              "    }\n",
              "  }\n",
              "</style>\n",
              "\n",
              "  <script>\n",
              "    async function quickchart(key) {\n",
              "      const quickchartButtonEl =\n",
              "        document.querySelector('#' + key + ' button');\n",
              "      quickchartButtonEl.disabled = true;  // To prevent multiple clicks.\n",
              "      quickchartButtonEl.classList.add('colab-df-spinner');\n",
              "      try {\n",
              "        const charts = await google.colab.kernel.invokeFunction(\n",
              "            'suggestCharts', [key], {});\n",
              "      } catch (error) {\n",
              "        console.error('Error during call to suggestCharts:', error);\n",
              "      }\n",
              "      quickchartButtonEl.classList.remove('colab-df-spinner');\n",
              "      quickchartButtonEl.classList.add('colab-df-quickchart-complete');\n",
              "    }\n",
              "    (() => {\n",
              "      let quickchartButtonEl =\n",
              "        document.querySelector('#df-e75db21d-a976-4b87-8967-4aeba78c89e3 button');\n",
              "      quickchartButtonEl.style.display =\n",
              "        google.colab.kernel.accessAllowed ? 'block' : 'none';\n",
              "    })();\n",
              "  </script>\n",
              "</div>\n",
              "    </div>\n",
              "  </div>\n"
            ],
            "application/vnd.google.colaboratory.intrinsic+json": {
              "type": "dataframe",
              "summary": "{\n  \"name\": \"df\",\n  \"rows\": 10,\n  \"fields\": [\n    {\n      \"column\": \"image_paths\",\n      \"properties\": {\n        \"dtype\": \"string\",\n        \"num_unique_values\": 10,\n        \"samples\": [\n          \"/content/Training/no_tumor/image(30).jpg\",\n          \"/content/3/2044.png\",\n          \"/content/2/106.png\"\n        ],\n        \"semantic_type\": \"\",\n        \"description\": \"\"\n      }\n    },\n    {\n      \"column\": \"label\",\n      \"properties\": {\n        \"dtype\": \"category\",\n        \"num_unique_values\": 4,\n        \"samples\": [\n          \"0\",\n          \"2\",\n          \"3\"\n        ],\n        \"semantic_type\": \"\",\n        \"description\": \"\"\n      }\n    }\n  ]\n}"
            }
          },
          "metadata": {},
          "execution_count": 17
        }
      ],
      "source": [
        "df.sample(10)"
      ]
    },
    {
      "cell_type": "code",
      "execution_count": null,
      "metadata": {
        "id": "ms4ATnjqP_2p"
      },
      "outputs": [],
      "source": [
        "# convert_dict = {'image_paths': object,\n",
        "#                 'label': categorical\n",
        "#                 }\n",
        "# df = df.astype(convert_dict)"
      ]
    },
    {
      "cell_type": "code",
      "execution_count": null,
      "metadata": {
        "colab": {
          "base_uri": "https://localhost:8080/"
        },
        "id": "A82ceDHsPeUx",
        "outputId": "1088827e-0f29-457f-d33e-9a10351c4dc0"
      },
      "outputs": [
        {
          "output_type": "stream",
          "name": "stdout",
          "text": [
            "<class 'pandas.core.frame.DataFrame'>\n",
            "Int64Index: 6328 entries, 0 to 6327\n",
            "Data columns (total 2 columns):\n",
            " #   Column       Non-Null Count  Dtype \n",
            "---  ------       --------------  ----- \n",
            " 0   image_paths  6328 non-null   object\n",
            " 1   label        6328 non-null   object\n",
            "dtypes: object(2)\n",
            "memory usage: 148.3+ KB\n"
          ]
        }
      ],
      "source": [
        "df.info()"
      ]
    },
    {
      "cell_type": "code",
      "execution_count": null,
      "metadata": {
        "id": "BLjqg7PG56v-"
      },
      "outputs": [],
      "source": [
        "# making training and testing data"
      ]
    },
    {
      "cell_type": "code",
      "execution_count": null,
      "metadata": {
        "id": "CNpWL9xL6d9v"
      },
      "outputs": [],
      "source": [
        "train, test = train_test_split(df, test_size= 0.2, random_state= 42)\n",
        "training, validation = train_test_split(train, test_size= 0.25, random_state= 42, shuffle = True)"
      ]
    },
    {
      "cell_type": "code",
      "execution_count": null,
      "metadata": {
        "id": "2cYoosIA6C_b"
      },
      "outputs": [],
      "source": [
        "target_size = (224,224)\n",
        "\n",
        "train_datagen = ImageDataGenerator(\n",
        "    rescale=1.0/255,\n",
        "    rotation_range=20,\n",
        "    width_shift_range=0.2,\n",
        "    height_shift_range=0.2,\n",
        "    shear_range=0.2,\n",
        "    zoom_range=0.2,\n",
        "    horizontal_flip=True,\n",
        "    vertical_flip=True,\n",
        "    brightness_range=[0.4,1.2],\n",
        "    fill_mode='nearest'\n",
        ")\n",
        "\n",
        "valid_test_datagen = ImageDataGenerator(\n",
        "    rescale=1.0/255\n",
        ")"
      ]
    },
    {
      "cell_type": "code",
      "execution_count": null,
      "metadata": {
        "id": "RFz6M8aw6rnL"
      },
      "outputs": [],
      "source": [
        "def create_dataset(df,is_training=False):\n",
        "  if is_training:\n",
        "    datagen = train_datagen\n",
        "  else:\n",
        "    datagen = valid_test_datagen\n",
        "\n",
        "  return datagen.flow_from_dataframe(\n",
        "      df,\n",
        "      x_col='image_paths',\n",
        "      y_col='label',\n",
        "      class_mode='categorical',\n",
        "      shuffel=is_training,\n",
        "      target_size=target_size)"
      ]
    },
    {
      "cell_type": "code",
      "execution_count": null,
      "metadata": {
        "colab": {
          "base_uri": "https://localhost:8080/"
        },
        "id": "Kv8PZHFZ7WxB",
        "outputId": "432c15ce-d3bc-4b93-eccd-144c420c6869"
      },
      "outputs": [
        {
          "output_type": "stream",
          "name": "stdout",
          "text": [
            "Found 3796 validated image filenames belonging to 4 classes.\n",
            "Found 1266 validated image filenames belonging to 4 classes.\n",
            "Found 1266 validated image filenames belonging to 4 classes.\n"
          ]
        }
      ],
      "source": [
        "train_dataset = create_dataset(training,is_training=True)\n",
        "test_dataset = create_dataset(test)\n",
        "validation_dataset = create_dataset(validation)"
      ]
    },
    {
      "cell_type": "code",
      "execution_count": null,
      "metadata": {
        "colab": {
          "base_uri": "https://localhost:8080/"
        },
        "id": "ASWniMOsRYrF",
        "outputId": "31b29931-f957-4da3-c571-2f2ffc80a66f"
      },
      "outputs": [
        {
          "output_type": "stream",
          "name": "stdout",
          "text": [
            "False\n",
            "False\n",
            "False\n",
            "False\n",
            "False\n",
            "False\n",
            "False\n",
            "False\n",
            "False\n",
            "False\n",
            "False\n",
            "False\n",
            "True\n",
            "True\n",
            "True\n",
            "True\n",
            "True\n",
            "True\n",
            "True\n"
          ]
        }
      ],
      "source": [
        "base = keras.applications.VGG16(weights='imagenet',include_top=False,input_shape=(224,224,3))\n",
        "\n",
        "base.trainable = False\n",
        "for layer in base.layers[-7:]:\n",
        "  layer.trainable = True\n",
        "for layer in base.layers:\n",
        "  print(layer.trainable)\n",
        "\n",
        "flatten = Flatten()(base.output)\n",
        "x = Dense(473,activation='relu')(flatten)\n",
        "x = Dropout(0.08179070851723078)(x)\n",
        "output = Dense(4,activation='softmax')(x)\n",
        "\n",
        "model = keras.Model(base.input,output)\n",
        "model.summary()"
      ]
    },
    {
      "cell_type": "code",
      "execution_count": null,
      "metadata": {
        "id": "t65huaBVSXfT"
      },
      "outputs": [],
      "source": [
        "model.compile(optimizer=keras.optimizers.SGD(learning_rate=0.0008356345045084528),loss='categorical_crossentropy',metrics=['accuracy'])"
      ]
    },
    {
      "cell_type": "code",
      "execution_count": null,
      "metadata": {
        "id": "p2n6PJCHDHlA"
      },
      "outputs": [],
      "source": [
        "from tensorflow.keras.callbacks import EarlyStopping\n",
        "early_stop = EarlyStopping(monitor='val_loss', patience=6)"
      ]
    },
    {
      "cell_type": "code",
      "execution_count": null,
      "metadata": {
        "id": "RMDjKqJCSed0",
        "colab": {
          "base_uri": "https://localhost:8080/"
        },
        "outputId": "f2b092af-4ab1-47a2-ab14-5a4df3a0cd69"
      },
      "outputs": [
        {
          "output_type": "stream",
          "name": "stdout",
          "text": [
            "Epoch 1/100\n",
            "119/119 [==============================] - 118s 876ms/step - loss: 1.2398 - accuracy: 0.4038 - val_loss: 1.0581 - val_accuracy: 0.5047\n",
            "Epoch 2/100\n",
            "119/119 [==============================] - 94s 790ms/step - loss: 1.0697 - accuracy: 0.5211 - val_loss: 0.8599 - val_accuracy: 0.6564\n",
            "Epoch 3/100\n",
            "119/119 [==============================] - 95s 799ms/step - loss: 0.9596 - accuracy: 0.5830 - val_loss: 0.6996 - val_accuracy: 0.7283\n",
            "Epoch 4/100\n",
            "119/119 [==============================] - 96s 803ms/step - loss: 0.8792 - accuracy: 0.6283 - val_loss: 0.6828 - val_accuracy: 0.7275\n",
            "Epoch 5/100\n",
            "119/119 [==============================] - 91s 762ms/step - loss: 0.8133 - accuracy: 0.6628 - val_loss: 0.5696 - val_accuracy: 0.7765\n",
            "Epoch 6/100\n",
            "119/119 [==============================] - 89s 751ms/step - loss: 0.7452 - accuracy: 0.6947 - val_loss: 0.4978 - val_accuracy: 0.8183\n",
            "Epoch 7/100\n",
            "119/119 [==============================] - 89s 750ms/step - loss: 0.6655 - accuracy: 0.7366 - val_loss: 0.5075 - val_accuracy: 0.8144\n",
            "Epoch 8/100\n",
            "119/119 [==============================] - 90s 758ms/step - loss: 0.6478 - accuracy: 0.7366 - val_loss: 0.4269 - val_accuracy: 0.8444\n",
            "Epoch 9/100\n",
            "119/119 [==============================] - 94s 788ms/step - loss: 0.6130 - accuracy: 0.7558 - val_loss: 0.4160 - val_accuracy: 0.8460\n",
            "Epoch 10/100\n",
            "119/119 [==============================] - 89s 749ms/step - loss: 0.5701 - accuracy: 0.7761 - val_loss: 0.4518 - val_accuracy: 0.8325\n",
            "Epoch 11/100\n",
            "119/119 [==============================] - 93s 786ms/step - loss: 0.5670 - accuracy: 0.7700 - val_loss: 0.3653 - val_accuracy: 0.8523\n",
            "Epoch 12/100\n",
            "119/119 [==============================] - 94s 793ms/step - loss: 0.5412 - accuracy: 0.7879 - val_loss: 0.3865 - val_accuracy: 0.8476\n",
            "Epoch 13/100\n",
            "119/119 [==============================] - 96s 807ms/step - loss: 0.5171 - accuracy: 0.7969 - val_loss: 0.4075 - val_accuracy: 0.8515\n",
            "Epoch 14/100\n",
            "119/119 [==============================] - 90s 756ms/step - loss: 0.4916 - accuracy: 0.8161 - val_loss: 0.5344 - val_accuracy: 0.7875\n",
            "Epoch 15/100\n",
            "119/119 [==============================] - 89s 750ms/step - loss: 0.4744 - accuracy: 0.8098 - val_loss: 0.3664 - val_accuracy: 0.8657\n",
            "Epoch 16/100\n",
            "119/119 [==============================] - 88s 744ms/step - loss: 0.4637 - accuracy: 0.8232 - val_loss: 0.3360 - val_accuracy: 0.8728\n",
            "Epoch 17/100\n",
            "119/119 [==============================] - 89s 749ms/step - loss: 0.4760 - accuracy: 0.8169 - val_loss: 0.3897 - val_accuracy: 0.8531\n",
            "Epoch 18/100\n",
            "119/119 [==============================] - 89s 747ms/step - loss: 0.4423 - accuracy: 0.8280 - val_loss: 0.3236 - val_accuracy: 0.8776\n",
            "Epoch 19/100\n",
            "119/119 [==============================] - 90s 758ms/step - loss: 0.4345 - accuracy: 0.8351 - val_loss: 0.3309 - val_accuracy: 0.8760\n",
            "Epoch 20/100\n",
            "119/119 [==============================] - 89s 752ms/step - loss: 0.4025 - accuracy: 0.8472 - val_loss: 0.2831 - val_accuracy: 0.8894\n",
            "Epoch 21/100\n",
            "119/119 [==============================] - 90s 755ms/step - loss: 0.4089 - accuracy: 0.8409 - val_loss: 0.3535 - val_accuracy: 0.8712\n",
            "Epoch 22/100\n",
            "119/119 [==============================] - 87s 732ms/step - loss: 0.4006 - accuracy: 0.8417 - val_loss: 0.2838 - val_accuracy: 0.8934\n",
            "Epoch 23/100\n",
            "119/119 [==============================] - 90s 755ms/step - loss: 0.3906 - accuracy: 0.8491 - val_loss: 0.2791 - val_accuracy: 0.8918\n",
            "Epoch 24/100\n",
            "119/119 [==============================] - 89s 752ms/step - loss: 0.3879 - accuracy: 0.8527 - val_loss: 0.2930 - val_accuracy: 0.8863\n",
            "Epoch 25/100\n",
            "119/119 [==============================] - 88s 744ms/step - loss: 0.3577 - accuracy: 0.8630 - val_loss: 0.3528 - val_accuracy: 0.8689\n",
            "Epoch 26/100\n",
            "119/119 [==============================] - 91s 768ms/step - loss: 0.3600 - accuracy: 0.8630 - val_loss: 0.3224 - val_accuracy: 0.8791\n",
            "Epoch 27/100\n",
            "119/119 [==============================] - 90s 755ms/step - loss: 0.3495 - accuracy: 0.8659 - val_loss: 0.3404 - val_accuracy: 0.8728\n",
            "Epoch 28/100\n",
            "119/119 [==============================] - 88s 738ms/step - loss: 0.3597 - accuracy: 0.8643 - val_loss: 0.2852 - val_accuracy: 0.8894\n",
            "Epoch 29/100\n",
            "119/119 [==============================] - 90s 758ms/step - loss: 0.3337 - accuracy: 0.8759 - val_loss: 0.2643 - val_accuracy: 0.8997\n",
            "Epoch 30/100\n",
            "119/119 [==============================] - 90s 756ms/step - loss: 0.3377 - accuracy: 0.8749 - val_loss: 0.2740 - val_accuracy: 0.8981\n",
            "Epoch 31/100\n",
            "119/119 [==============================] - 89s 752ms/step - loss: 0.3348 - accuracy: 0.8759 - val_loss: 0.2368 - val_accuracy: 0.9107\n",
            "Epoch 32/100\n",
            "119/119 [==============================] - 89s 750ms/step - loss: 0.3120 - accuracy: 0.8880 - val_loss: 0.2912 - val_accuracy: 0.8934\n",
            "Epoch 33/100\n",
            "119/119 [==============================] - 91s 760ms/step - loss: 0.3125 - accuracy: 0.8822 - val_loss: 0.2146 - val_accuracy: 0.9155\n",
            "Epoch 34/100\n",
            "119/119 [==============================] - 88s 742ms/step - loss: 0.3154 - accuracy: 0.8815 - val_loss: 0.2246 - val_accuracy: 0.9115\n",
            "Epoch 35/100\n",
            "119/119 [==============================] - 90s 756ms/step - loss: 0.2825 - accuracy: 0.8973 - val_loss: 0.2708 - val_accuracy: 0.9021\n",
            "Epoch 36/100\n",
            "119/119 [==============================] - 88s 738ms/step - loss: 0.3040 - accuracy: 0.8838 - val_loss: 0.2043 - val_accuracy: 0.9194\n",
            "Epoch 37/100\n",
            "119/119 [==============================] - 90s 756ms/step - loss: 0.2752 - accuracy: 0.8978 - val_loss: 0.3042 - val_accuracy: 0.8918\n",
            "Epoch 38/100\n",
            "119/119 [==============================] - 88s 739ms/step - loss: 0.2770 - accuracy: 0.8936 - val_loss: 0.2220 - val_accuracy: 0.9115\n",
            "Epoch 39/100\n",
            "119/119 [==============================] - 88s 737ms/step - loss: 0.2854 - accuracy: 0.8949 - val_loss: 0.2229 - val_accuracy: 0.9139\n",
            "Epoch 40/100\n",
            "119/119 [==============================] - 89s 751ms/step - loss: 0.2818 - accuracy: 0.8878 - val_loss: 0.2093 - val_accuracy: 0.9218\n",
            "Epoch 41/100\n",
            "119/119 [==============================] - 88s 740ms/step - loss: 0.2782 - accuracy: 0.8986 - val_loss: 0.1924 - val_accuracy: 0.9218\n",
            "Epoch 42/100\n",
            "119/119 [==============================] - 87s 734ms/step - loss: 0.2708 - accuracy: 0.9028 - val_loss: 0.3066 - val_accuracy: 0.8902\n",
            "Epoch 43/100\n",
            "119/119 [==============================] - 87s 729ms/step - loss: 0.2763 - accuracy: 0.8986 - val_loss: 0.2847 - val_accuracy: 0.8973\n",
            "Epoch 44/100\n",
            "119/119 [==============================] - 89s 744ms/step - loss: 0.2651 - accuracy: 0.9004 - val_loss: 0.1987 - val_accuracy: 0.9155\n",
            "Epoch 45/100\n",
            "119/119 [==============================] - 89s 751ms/step - loss: 0.2686 - accuracy: 0.9017 - val_loss: 0.1897 - val_accuracy: 0.9242\n",
            "Epoch 46/100\n",
            "119/119 [==============================] - 87s 735ms/step - loss: 0.2504 - accuracy: 0.9046 - val_loss: 0.2000 - val_accuracy: 0.9226\n",
            "Epoch 47/100\n",
            "119/119 [==============================] - 87s 735ms/step - loss: 0.2555 - accuracy: 0.9031 - val_loss: 0.2203 - val_accuracy: 0.9155\n",
            "Epoch 48/100\n",
            "119/119 [==============================] - 87s 723ms/step - loss: 0.2389 - accuracy: 0.9104 - val_loss: 0.2267 - val_accuracy: 0.9155\n",
            "Epoch 49/100\n",
            "119/119 [==============================] - 89s 748ms/step - loss: 0.2420 - accuracy: 0.9107 - val_loss: 0.1955 - val_accuracy: 0.9218\n",
            "Epoch 50/100\n",
            "119/119 [==============================] - 89s 747ms/step - loss: 0.2489 - accuracy: 0.9075 - val_loss: 0.2186 - val_accuracy: 0.9186\n",
            "Epoch 51/100\n",
            "119/119 [==============================] - 88s 738ms/step - loss: 0.2347 - accuracy: 0.9133 - val_loss: 0.2621 - val_accuracy: 0.9052\n"
          ]
        }
      ],
      "source": [
        "history = model.fit(train_dataset,epochs=100,validation_data=validation_dataset,callbacks=[early_stop])"
      ]
    },
    {
      "cell_type": "markdown",
      "source": [
        "**Parameter** **tunung** **using** **Optuna**"
      ],
      "metadata": {
        "id": "M5v3uHz03_Yk"
      }
    },
    {
      "cell_type": "code",
      "execution_count": null,
      "metadata": {
        "id": "7wbi0lqLToX2"
      },
      "outputs": [],
      "source": [
        "# !pip install optuna\n",
        "# import optuna"
      ]
    },
    {
      "cell_type": "code",
      "execution_count": null,
      "metadata": {
        "id": "bVjlK_mgTo0C"
      },
      "outputs": [],
      "source": [
        "# def create_model(trial):\n",
        "#   loaded_model = keras.applications.VGG16(weights='imagenet',include_top=False,input_shape=(224,224,3))\n",
        "\n",
        "#   N = trial.suggest_int(\"unfreeze_layers\",1,17)\n",
        "#   for layer in loaded_model.layers[-N:]:\n",
        "#     layer.trainable = True\n",
        "\n",
        "#   learning_rate = trial.suggest_float('learning_rate',1e-5,1e-2,log=True)\n",
        "\n",
        "#   model = Sequential()\n",
        "#   for layer in loaded_model.layers[:-1]:\n",
        "#     model.add(layer)\n",
        "#     model.add(Dropout(0.25))\n",
        "#     model.add(Dense(4,activation='softmax'))\n",
        "\n",
        "#     optimizer = keras.optimizers.SGD(learning_rate=learning_rate,momentum=0.9)\n",
        "#     model.compile(optimizer=optimizer,loss='categorical_crossentropy',metrics=['accuracy'])\n",
        "\n",
        "#     return model\n"
      ]
    },
    {
      "cell_type": "code",
      "execution_count": null,
      "metadata": {
        "id": "n3niMPvyTpLe"
      },
      "outputs": [],
      "source": [
        "# from keras.models import Model\n",
        "# def objective(trial):\n",
        "#   base_model = keras.applications.VGG16(weights='imagenet',include_top = False,input_shape=(224,224,3))\n",
        "\n",
        "#   for layer in base_model.layers[:-trial.suggest_int('unfreeze_layers',1,10)]:\n",
        "#     layer.trainable = False\n",
        "#   base_model_output = base_model.output\n",
        "#   x = Flatten()(base_model_output)\n",
        "#   for _ in range(trial.suggest_int('fc_layers',1,5)):\n",
        "#     x = Dense(trial.suggest_int('fc_units',64,512),activation='relu')(x)\n",
        "#   output = Dense(4,activation='softmax')(x)\n",
        "\n",
        "#   model = Model(inputs=base_model.input,outputs=output)\n",
        "\n",
        "#   model.compile(optimizer=keras.optimizers.SGD(learning_rate = trial.suggest_float('learning_rate',1e-5,1e-2,log=True),momentum=0.9), loss='categorical_crossentropy', metrics=['accuracy'])\n",
        "#   model.fit(train_dataset,epochs=5,batch_size=32,validation_data=validation_dataset)\n",
        "#   val_loss,val_accuracy = model.evaluate(validation_dataset)\n",
        "#   return val_accuracy\n",
        "# study = optuna.create_study(direction='maximize')\n",
        "# study.optimize(objective, n_trials=20)"
      ]
    },
    {
      "cell_type": "code",
      "execution_count": null,
      "metadata": {
        "id": "-TQM2dVrTqJK"
      },
      "outputs": [],
      "source": [
        "# best_params = study.best_params\n",
        "# print(\"Best Hyperparameters:\", best_params)\n"
      ]
    },
    {
      "cell_type": "code",
      "source": [
        "model.save(\"bt_fun.h5\")\n",
        "from google.colab import files\n",
        "files.download(\"bt_fun.h5\")"
      ],
      "metadata": {
        "id": "aFDVZUoy8L5i",
        "colab": {
          "base_uri": "https://localhost:8080/",
          "height": 17
        },
        "outputId": "c6a070bf-3e59-4163-e48d-62dda8c90ed6"
      },
      "execution_count": null,
      "outputs": [
        {
          "output_type": "display_data",
          "data": {
            "text/plain": [
              "<IPython.core.display.Javascript object>"
            ],
            "application/javascript": [
              "\n",
              "    async function download(id, filename, size) {\n",
              "      if (!google.colab.kernel.accessAllowed) {\n",
              "        return;\n",
              "      }\n",
              "      const div = document.createElement('div');\n",
              "      const label = document.createElement('label');\n",
              "      label.textContent = `Downloading \"${filename}\": `;\n",
              "      div.appendChild(label);\n",
              "      const progress = document.createElement('progress');\n",
              "      progress.max = size;\n",
              "      div.appendChild(progress);\n",
              "      document.body.appendChild(div);\n",
              "\n",
              "      const buffers = [];\n",
              "      let downloaded = 0;\n",
              "\n",
              "      const channel = await google.colab.kernel.comms.open(id);\n",
              "      // Send a message to notify the kernel that we're ready.\n",
              "      channel.send({})\n",
              "\n",
              "      for await (const message of channel.messages) {\n",
              "        // Send a message to notify the kernel that we're ready.\n",
              "        channel.send({})\n",
              "        if (message.buffers) {\n",
              "          for (const buffer of message.buffers) {\n",
              "            buffers.push(buffer);\n",
              "            downloaded += buffer.byteLength;\n",
              "            progress.value = downloaded;\n",
              "          }\n",
              "        }\n",
              "      }\n",
              "      const blob = new Blob(buffers, {type: 'application/binary'});\n",
              "      const a = document.createElement('a');\n",
              "      a.href = window.URL.createObjectURL(blob);\n",
              "      a.download = filename;\n",
              "      div.appendChild(a);\n",
              "      a.click();\n",
              "      div.remove();\n",
              "    }\n",
              "  "
            ]
          },
          "metadata": {}
        },
        {
          "output_type": "display_data",
          "data": {
            "text/plain": [
              "<IPython.core.display.Javascript object>"
            ],
            "application/javascript": [
              "download(\"download_83fc74c1-936e-4778-9607-6d4c94387551\", \"bt_fun.h5\", 201103948)"
            ]
          },
          "metadata": {}
        }
      ]
    }
  ]
}