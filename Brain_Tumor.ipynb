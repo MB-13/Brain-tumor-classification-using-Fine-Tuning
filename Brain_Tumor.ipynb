{
  "cells": [
    {
      "cell_type": "markdown",
      "metadata": {
        "id": "view-in-github",
        "colab_type": "text"
      },
      "source": [
        "<a href=\"https://colab.research.google.com/github/MB-13/Brain-tumor-classification-using-Fine-Tuning/blob/main/Brain_Tumor.ipynb\" target=\"_parent\"><img src=\"https://colab.research.google.com/assets/colab-badge.svg\" alt=\"Open In Colab\"/></a>"
      ]
    },
    {
      "cell_type": "code",
      "execution_count": null,
      "metadata": {
        "id": "tD1yqBnbqPvJ"
      },
      "outputs": [],
      "source": [
        "!mkdir -p ~/.kaggle\n",
        "!cp kaggle.json ~/.kaggle/"
      ]
    },
    {
      "cell_type": "code",
      "execution_count": null,
      "metadata": {
        "colab": {
          "base_uri": "https://localhost:8080/"
        },
        "id": "0YYHXf8erPrE",
        "outputId": "14af9b56-fa76-42a0-a2f7-956419a00fff"
      },
      "outputs": [
        {
          "output_type": "stream",
          "name": "stdout",
          "text": [
            "Warning: Your Kaggle API key is readable by other users on this system! To fix this, you can run 'chmod 600 /root/.kaggle/kaggle.json'\n",
            "Downloading brain-tumor-classification-mri.zip to /content\n",
            " 88% 76.0M/86.8M [00:00<00:00, 108MB/s]\n",
            "100% 86.8M/86.8M [00:00<00:00, 103MB/s]\n",
            "Warning: Your Kaggle API key is readable by other users on this system! To fix this, you can run 'chmod 600 /root/.kaggle/kaggle.json'\n",
            "Downloading brain-tumor.zip to /content\n",
            " 98% 689M/700M [00:07<00:00, 73.1MB/s]\n",
            "100% 700M/700M [00:07<00:00, 93.2MB/s]\n"
          ]
        }
      ],
      "source": [
        "!kaggle datasets download -d sartajbhuvaji/brain-tumor-classification-mri\n",
        "!kaggle datasets download -d denizkavi1/brain-tumor"
      ]
    },
    {
      "cell_type": "code",
      "execution_count": null,
      "metadata": {
        "id": "sWlQbB2irfr_"
      },
      "outputs": [],
      "source": [
        "import zipfile\n",
        "zip_ref = zipfile.ZipFile('/content/brain-tumor-classification-mri.zip')\n",
        "zip_ref_2 = zipfile.ZipFile('/content/brain-tumor.zip')\n",
        "zip_ref.extractall('/content')\n",
        "zip_ref_2.extractall('/content')\n",
        "zip_ref.close()\n",
        "zip_ref_2.close()"
      ]
    },
    {
      "cell_type": "code",
      "execution_count": null,
      "metadata": {
        "id": "jAQ8cUN5r1qZ"
      },
      "outputs": [],
      "source": [
        "import os\n",
        "import pandas as pd\n",
        "import numpy as np\n",
        "import tensorflow as tp\n",
        "from tensorflow import keras\n",
        "from keras import Sequential\n",
        "from sklearn.model_selection import train_test_split\n",
        "from keras.preprocessing.image import ImageDataGenerator\n",
        "from sklearn.model_selection import cross_val_score\n",
        "from keras.layers import Conv2D,Dense,MaxPooling2D,BatchNormalization,Dropout,Flatten"
      ]
    },
    {
      "cell_type": "code",
      "execution_count": null,
      "metadata": {
        "id": "8TKn5Cje3kTx"
      },
      "outputs": [],
      "source": []
    },
    {
      "cell_type": "markdown",
      "metadata": {
        "id": "obGZEcqYtr6D"
      },
      "source": [
        "**Gathering** **Dataset**"
      ]
    },
    {
      "cell_type": "code",
      "execution_count": null,
      "metadata": {
        "id": "GMQQ6LsPtUPU"
      },
      "outputs": [],
      "source": [
        "import PIL"
      ]
    },
    {
      "cell_type": "code",
      "execution_count": null,
      "metadata": {
        "id": "shOz8KYZtlrA"
      },
      "outputs": [],
      "source": [
        "data_dir = '/content/Training'\n",
        "test_data_dir = '/content/Testing'\n",
        "data_meni_1 = '/content/1'\n",
        "data_glio_2 = '/content/2'\n",
        "data_pitu_3 = '/content/3'"
      ]
    },
    {
      "cell_type": "code",
      "execution_count": null,
      "metadata": {
        "colab": {
          "base_uri": "https://localhost:8080/"
        },
        "id": "5kSIVnfoumjm",
        "outputId": "8ca2f0fc-3cb4-478d-ef49-9397cc6761a5"
      },
      "outputs": [
        {
          "output_type": "stream",
          "name": "stdout",
          "text": [
            "/content/Training\n"
          ]
        }
      ],
      "source": [
        "import pathlib\n",
        "data_dir = pathlib.Path(data_dir)\n",
        "test_data_dir = pathlib.Path(test_data_dir)\n",
        "data_meni_1 = pathlib.Path(data_meni_1)\n",
        "data_glio_2 = pathlib.Path(data_glio_2)\n",
        "data_pitu_3 = pathlib.Path(data_pitu_3)\n",
        "print(data_dir)"
      ]
    },
    {
      "cell_type": "code",
      "execution_count": null,
      "metadata": {
        "colab": {
          "base_uri": "https://localhost:8080/"
        },
        "id": "7uYEfO03uzPN",
        "outputId": "aa7dff43-6d8c-4a00-8875-46f92c069689"
      },
      "outputs": [
        {
          "output_type": "execute_result",
          "data": {
            "text/plain": [
              "708"
            ]
          },
          "metadata": {},
          "execution_count": 8
        }
      ],
      "source": [
        "image_count = len(list(data_dir.glob('*/*.jpg')))\n",
        "image_count\n",
        "image_count_t = len(list(test_data_dir.glob('*/*.jpg')))\n",
        "image_count_t\n",
        "len(list(data_meni_1.glob('*.png')))"
      ]
    },
    {
      "cell_type": "code",
      "execution_count": null,
      "metadata": {
        "id": "B74YYwCn3QnC"
      },
      "outputs": [],
      "source": [
        "# print(len(list(data_dir.glob('glioma_tumor/*'))))\n",
        "# print(len(list(data_dir.glob('meningioma_tumor/*'))))\n",
        "# print(len(list(data_dir.glob('no_tumor/*'))))\n",
        "# print(len(list(data_dir.glob('pituitary_tumor/*'))))"
      ]
    },
    {
      "cell_type": "code",
      "execution_count": null,
      "metadata": {
        "id": "KxmkWaVJ8UJK"
      },
      "outputs": [],
      "source": [
        "# print(len(list(test_data_dir.glob('glioma_tumor/*'))))\n",
        "# print(len(list(test_data_dir.glob('meningioma_tumor/*'))))\n",
        "# print(len(list(test_data_dir.glob('no_tumor/*'))))\n",
        "# print(len(list(test_data_dir.glob('pituitary_tumor/*'))))"
      ]
    },
    {
      "cell_type": "code",
      "execution_count": null,
      "metadata": {
        "id": "TmAUO1F6vPbQ"
      },
      "outputs": [],
      "source": [
        "brain_images_dict = {\n",
        "    'glioma_tumor' : list(data_dir.glob('glioma_tumor/*')),\n",
        "    'meningioma_tumor' : list(data_dir.glob('meningioma_tumor/*')),\n",
        "    'no_tumor' : list(data_dir.glob('no_tumor/*')),\n",
        "    'pituitary_tumor' : list(data_dir.glob('pituitary_tumor/*'))\n",
        "}\n",
        "\n",
        "sec_data_images = {\n",
        "    'meningioma_tumor' : list(data_meni_1.glob('*.png')),\n",
        "    'glioma_tumor' : list(data_glio_2.glob('*.png')),\n",
        "    'pituitary_tumor' : list(data_pitu_3.glob('*.png'))\n",
        "}\n",
        "\n",
        "test_brain_images_dict = {\n",
        "    'glioma_tumor' : list(test_data_dir.glob('glioma_tumor/*')),\n",
        "    'meningioma_tumor' : list(test_data_dir.glob('meningioma_tumor/*')),\n",
        "    'no_tumor' : list(test_data_dir.glob('no_tumor/*')),\n",
        "    'pituitary_tumor' : list(test_data_dir.glob('pituitary_tumor/*'))\n",
        "}\n",
        "\n",
        "brain_label_dict = {\n",
        "    'glioma_tumor' : 0,\n",
        "    'meningioma_tumor' : 1,\n",
        "    'no_tumor' : 2,\n",
        "    'pituitary_tumor' : 3\n",
        "}\n",
        "\n",
        "sec_data_label = {\n",
        "    'meningioma_tumor' : 1,\n",
        "    'glioma_tumor' : 0,\n",
        "    'pituitary_tumor' : 3\n",
        "}"
      ]
    },
    {
      "cell_type": "code",
      "execution_count": null,
      "metadata": {
        "colab": {
          "base_uri": "https://localhost:8080/",
          "height": 36
        },
        "id": "1mptwIIa2hi5",
        "outputId": "e1962412-8b47-4b3e-c0d1-5c2a543f4322"
      },
      "outputs": [
        {
          "output_type": "execute_result",
          "data": {
            "text/plain": [
              "'/content/3/1427.png'"
            ],
            "application/vnd.google.colaboratory.intrinsic+json": {
              "type": "string"
            }
          },
          "metadata": {},
          "execution_count": 12
        }
      ],
      "source": [
        "import cv2\n",
        "str(brain_images_dict['no_tumor'][5])\n",
        "str(sec_data_images['pituitary_tumor'][1])"
      ]
    },
    {
      "cell_type": "code",
      "execution_count": null,
      "metadata": {
        "id": "UJLfmJBQEyxS"
      },
      "outputs": [],
      "source": [
        "df = pd.DataFrame(columns=[\"image_paths\", \"label\"])"
      ]
    },
    {
      "cell_type": "code",
      "execution_count": null,
      "metadata": {
        "id": "35iUNXTP3Asx"
      },
      "outputs": [],
      "source": [
        "X,y = [],[]\n",
        "\n",
        "for tumor_class,images in brain_images_dict.items():\n",
        "  for image in images:\n",
        "    img = str(image)\n",
        "    X.append(img)\n",
        "    y.append(brain_label_dict[tumor_class])\n",
        "\n",
        "for tumor_class,images in test_brain_images_dict.items():\n",
        "  for image in images:\n",
        "    img = str(image)\n",
        "    X.append(img)\n",
        "    y.append(brain_label_dict[tumor_class])\n",
        "\n",
        "for tumor_class,images in sec_data_images.items():\n",
        "  for image in images:\n",
        "    img = str(image)\n",
        "    X.append(img)\n",
        "    y.append(sec_data_label[tumor_class])"
      ]
    },
    {
      "cell_type": "code",
      "execution_count": null,
      "metadata": {
        "id": "elFgnR8zE7U2"
      },
      "outputs": [],
      "source": [
        "for i in range(len(X)):\n",
        "  df.loc[i] = [X[i], str(y[i])]"
      ]
    },
    {
      "cell_type": "code",
      "source": [
        "df.shape"
      ],
      "metadata": {
        "colab": {
          "base_uri": "https://localhost:8080/"
        },
        "id": "RBLyWqN2g0DH",
        "outputId": "a350cbdb-ec08-4553-b51a-0eea908d32ff"
      },
      "execution_count": null,
      "outputs": [
        {
          "output_type": "execute_result",
          "data": {
            "text/plain": [
              "(6328, 2)"
            ]
          },
          "metadata": {},
          "execution_count": 16
        }
      ]
    },
    {
      "cell_type": "code",
      "execution_count": null,
      "metadata": {
        "colab": {
          "base_uri": "https://localhost:8080/",
          "height": 363
        },
        "id": "oQ25kvilEDww",
        "outputId": "ba413d8a-baca-4103-c9ea-a9e48e841113"
      },
      "outputs": [
        {
          "output_type": "execute_result",
          "data": {
            "text/plain": [
              "                                         image_paths label\n",
              "5616                             /content/3/1480.png     3\n",
              "3554                             /content/1/3040.png     1\n",
              "5768                             /content/3/1577.png     3\n",
              "5262                               /content/2/18.png     0\n",
              "4774                              /content/2/707.png     0\n",
              "3952                             /content/1/2607.png     1\n",
              "1732         /content/Training/no_tumor/image(2).jpg     2\n",
              "2271   /content/Training/pituitary_tumor/p (130).jpg     3\n",
              "2777   /content/Training/pituitary_tumor/p (684).jpg     3\n",
              "1267  /content/Training/meningioma_tumor/m2 (55).jpg     1"
            ],
            "text/html": [
              "\n",
              "  <div id=\"df-ce412567-226b-44ba-a26a-6aeedc3957c6\" class=\"colab-df-container\">\n",
              "    <div>\n",
              "<style scoped>\n",
              "    .dataframe tbody tr th:only-of-type {\n",
              "        vertical-align: middle;\n",
              "    }\n",
              "\n",
              "    .dataframe tbody tr th {\n",
              "        vertical-align: top;\n",
              "    }\n",
              "\n",
              "    .dataframe thead th {\n",
              "        text-align: right;\n",
              "    }\n",
              "</style>\n",
              "<table border=\"1\" class=\"dataframe\">\n",
              "  <thead>\n",
              "    <tr style=\"text-align: right;\">\n",
              "      <th></th>\n",
              "      <th>image_paths</th>\n",
              "      <th>label</th>\n",
              "    </tr>\n",
              "  </thead>\n",
              "  <tbody>\n",
              "    <tr>\n",
              "      <th>5616</th>\n",
              "      <td>/content/3/1480.png</td>\n",
              "      <td>3</td>\n",
              "    </tr>\n",
              "    <tr>\n",
              "      <th>3554</th>\n",
              "      <td>/content/1/3040.png</td>\n",
              "      <td>1</td>\n",
              "    </tr>\n",
              "    <tr>\n",
              "      <th>5768</th>\n",
              "      <td>/content/3/1577.png</td>\n",
              "      <td>3</td>\n",
              "    </tr>\n",
              "    <tr>\n",
              "      <th>5262</th>\n",
              "      <td>/content/2/18.png</td>\n",
              "      <td>0</td>\n",
              "    </tr>\n",
              "    <tr>\n",
              "      <th>4774</th>\n",
              "      <td>/content/2/707.png</td>\n",
              "      <td>0</td>\n",
              "    </tr>\n",
              "    <tr>\n",
              "      <th>3952</th>\n",
              "      <td>/content/1/2607.png</td>\n",
              "      <td>1</td>\n",
              "    </tr>\n",
              "    <tr>\n",
              "      <th>1732</th>\n",
              "      <td>/content/Training/no_tumor/image(2).jpg</td>\n",
              "      <td>2</td>\n",
              "    </tr>\n",
              "    <tr>\n",
              "      <th>2271</th>\n",
              "      <td>/content/Training/pituitary_tumor/p (130).jpg</td>\n",
              "      <td>3</td>\n",
              "    </tr>\n",
              "    <tr>\n",
              "      <th>2777</th>\n",
              "      <td>/content/Training/pituitary_tumor/p (684).jpg</td>\n",
              "      <td>3</td>\n",
              "    </tr>\n",
              "    <tr>\n",
              "      <th>1267</th>\n",
              "      <td>/content/Training/meningioma_tumor/m2 (55).jpg</td>\n",
              "      <td>1</td>\n",
              "    </tr>\n",
              "  </tbody>\n",
              "</table>\n",
              "</div>\n",
              "    <div class=\"colab-df-buttons\">\n",
              "\n",
              "  <div class=\"colab-df-container\">\n",
              "    <button class=\"colab-df-convert\" onclick=\"convertToInteractive('df-ce412567-226b-44ba-a26a-6aeedc3957c6')\"\n",
              "            title=\"Convert this dataframe to an interactive table.\"\n",
              "            style=\"display:none;\">\n",
              "\n",
              "  <svg xmlns=\"http://www.w3.org/2000/svg\" height=\"24px\" viewBox=\"0 -960 960 960\">\n",
              "    <path d=\"M120-120v-720h720v720H120Zm60-500h600v-160H180v160Zm220 220h160v-160H400v160Zm0 220h160v-160H400v160ZM180-400h160v-160H180v160Zm440 0h160v-160H620v160ZM180-180h160v-160H180v160Zm440 0h160v-160H620v160Z\"/>\n",
              "  </svg>\n",
              "    </button>\n",
              "\n",
              "  <style>\n",
              "    .colab-df-container {\n",
              "      display:flex;\n",
              "      gap: 12px;\n",
              "    }\n",
              "\n",
              "    .colab-df-convert {\n",
              "      background-color: #E8F0FE;\n",
              "      border: none;\n",
              "      border-radius: 50%;\n",
              "      cursor: pointer;\n",
              "      display: none;\n",
              "      fill: #1967D2;\n",
              "      height: 32px;\n",
              "      padding: 0 0 0 0;\n",
              "      width: 32px;\n",
              "    }\n",
              "\n",
              "    .colab-df-convert:hover {\n",
              "      background-color: #E2EBFA;\n",
              "      box-shadow: 0px 1px 2px rgba(60, 64, 67, 0.3), 0px 1px 3px 1px rgba(60, 64, 67, 0.15);\n",
              "      fill: #174EA6;\n",
              "    }\n",
              "\n",
              "    .colab-df-buttons div {\n",
              "      margin-bottom: 4px;\n",
              "    }\n",
              "\n",
              "    [theme=dark] .colab-df-convert {\n",
              "      background-color: #3B4455;\n",
              "      fill: #D2E3FC;\n",
              "    }\n",
              "\n",
              "    [theme=dark] .colab-df-convert:hover {\n",
              "      background-color: #434B5C;\n",
              "      box-shadow: 0px 1px 3px 1px rgba(0, 0, 0, 0.15);\n",
              "      filter: drop-shadow(0px 1px 2px rgba(0, 0, 0, 0.3));\n",
              "      fill: #FFFFFF;\n",
              "    }\n",
              "  </style>\n",
              "\n",
              "    <script>\n",
              "      const buttonEl =\n",
              "        document.querySelector('#df-ce412567-226b-44ba-a26a-6aeedc3957c6 button.colab-df-convert');\n",
              "      buttonEl.style.display =\n",
              "        google.colab.kernel.accessAllowed ? 'block' : 'none';\n",
              "\n",
              "      async function convertToInteractive(key) {\n",
              "        const element = document.querySelector('#df-ce412567-226b-44ba-a26a-6aeedc3957c6');\n",
              "        const dataTable =\n",
              "          await google.colab.kernel.invokeFunction('convertToInteractive',\n",
              "                                                    [key], {});\n",
              "        if (!dataTable) return;\n",
              "\n",
              "        const docLinkHtml = 'Like what you see? Visit the ' +\n",
              "          '<a target=\"_blank\" href=https://colab.research.google.com/notebooks/data_table.ipynb>data table notebook</a>'\n",
              "          + ' to learn more about interactive tables.';\n",
              "        element.innerHTML = '';\n",
              "        dataTable['output_type'] = 'display_data';\n",
              "        await google.colab.output.renderOutput(dataTable, element);\n",
              "        const docLink = document.createElement('div');\n",
              "        docLink.innerHTML = docLinkHtml;\n",
              "        element.appendChild(docLink);\n",
              "      }\n",
              "    </script>\n",
              "  </div>\n",
              "\n",
              "\n",
              "<div id=\"df-e6d65af3-1816-4133-b5a6-a96eefcb94e3\">\n",
              "  <button class=\"colab-df-quickchart\" onclick=\"quickchart('df-e6d65af3-1816-4133-b5a6-a96eefcb94e3')\"\n",
              "            title=\"Suggest charts\"\n",
              "            style=\"display:none;\">\n",
              "\n",
              "<svg xmlns=\"http://www.w3.org/2000/svg\" height=\"24px\"viewBox=\"0 0 24 24\"\n",
              "     width=\"24px\">\n",
              "    <g>\n",
              "        <path d=\"M19 3H5c-1.1 0-2 .9-2 2v14c0 1.1.9 2 2 2h14c1.1 0 2-.9 2-2V5c0-1.1-.9-2-2-2zM9 17H7v-7h2v7zm4 0h-2V7h2v10zm4 0h-2v-4h2v4z\"/>\n",
              "    </g>\n",
              "</svg>\n",
              "  </button>\n",
              "\n",
              "<style>\n",
              "  .colab-df-quickchart {\n",
              "      --bg-color: #E8F0FE;\n",
              "      --fill-color: #1967D2;\n",
              "      --hover-bg-color: #E2EBFA;\n",
              "      --hover-fill-color: #174EA6;\n",
              "      --disabled-fill-color: #AAA;\n",
              "      --disabled-bg-color: #DDD;\n",
              "  }\n",
              "\n",
              "  [theme=dark] .colab-df-quickchart {\n",
              "      --bg-color: #3B4455;\n",
              "      --fill-color: #D2E3FC;\n",
              "      --hover-bg-color: #434B5C;\n",
              "      --hover-fill-color: #FFFFFF;\n",
              "      --disabled-bg-color: #3B4455;\n",
              "      --disabled-fill-color: #666;\n",
              "  }\n",
              "\n",
              "  .colab-df-quickchart {\n",
              "    background-color: var(--bg-color);\n",
              "    border: none;\n",
              "    border-radius: 50%;\n",
              "    cursor: pointer;\n",
              "    display: none;\n",
              "    fill: var(--fill-color);\n",
              "    height: 32px;\n",
              "    padding: 0;\n",
              "    width: 32px;\n",
              "  }\n",
              "\n",
              "  .colab-df-quickchart:hover {\n",
              "    background-color: var(--hover-bg-color);\n",
              "    box-shadow: 0 1px 2px rgba(60, 64, 67, 0.3), 0 1px 3px 1px rgba(60, 64, 67, 0.15);\n",
              "    fill: var(--button-hover-fill-color);\n",
              "  }\n",
              "\n",
              "  .colab-df-quickchart-complete:disabled,\n",
              "  .colab-df-quickchart-complete:disabled:hover {\n",
              "    background-color: var(--disabled-bg-color);\n",
              "    fill: var(--disabled-fill-color);\n",
              "    box-shadow: none;\n",
              "  }\n",
              "\n",
              "  .colab-df-spinner {\n",
              "    border: 2px solid var(--fill-color);\n",
              "    border-color: transparent;\n",
              "    border-bottom-color: var(--fill-color);\n",
              "    animation:\n",
              "      spin 1s steps(1) infinite;\n",
              "  }\n",
              "\n",
              "  @keyframes spin {\n",
              "    0% {\n",
              "      border-color: transparent;\n",
              "      border-bottom-color: var(--fill-color);\n",
              "      border-left-color: var(--fill-color);\n",
              "    }\n",
              "    20% {\n",
              "      border-color: transparent;\n",
              "      border-left-color: var(--fill-color);\n",
              "      border-top-color: var(--fill-color);\n",
              "    }\n",
              "    30% {\n",
              "      border-color: transparent;\n",
              "      border-left-color: var(--fill-color);\n",
              "      border-top-color: var(--fill-color);\n",
              "      border-right-color: var(--fill-color);\n",
              "    }\n",
              "    40% {\n",
              "      border-color: transparent;\n",
              "      border-right-color: var(--fill-color);\n",
              "      border-top-color: var(--fill-color);\n",
              "    }\n",
              "    60% {\n",
              "      border-color: transparent;\n",
              "      border-right-color: var(--fill-color);\n",
              "    }\n",
              "    80% {\n",
              "      border-color: transparent;\n",
              "      border-right-color: var(--fill-color);\n",
              "      border-bottom-color: var(--fill-color);\n",
              "    }\n",
              "    90% {\n",
              "      border-color: transparent;\n",
              "      border-bottom-color: var(--fill-color);\n",
              "    }\n",
              "  }\n",
              "</style>\n",
              "\n",
              "  <script>\n",
              "    async function quickchart(key) {\n",
              "      const quickchartButtonEl =\n",
              "        document.querySelector('#' + key + ' button');\n",
              "      quickchartButtonEl.disabled = true;  // To prevent multiple clicks.\n",
              "      quickchartButtonEl.classList.add('colab-df-spinner');\n",
              "      try {\n",
              "        const charts = await google.colab.kernel.invokeFunction(\n",
              "            'suggestCharts', [key], {});\n",
              "      } catch (error) {\n",
              "        console.error('Error during call to suggestCharts:', error);\n",
              "      }\n",
              "      quickchartButtonEl.classList.remove('colab-df-spinner');\n",
              "      quickchartButtonEl.classList.add('colab-df-quickchart-complete');\n",
              "    }\n",
              "    (() => {\n",
              "      let quickchartButtonEl =\n",
              "        document.querySelector('#df-e6d65af3-1816-4133-b5a6-a96eefcb94e3 button');\n",
              "      quickchartButtonEl.style.display =\n",
              "        google.colab.kernel.accessAllowed ? 'block' : 'none';\n",
              "    })();\n",
              "  </script>\n",
              "</div>\n",
              "\n",
              "    </div>\n",
              "  </div>\n"
            ],
            "application/vnd.google.colaboratory.intrinsic+json": {
              "type": "dataframe",
              "summary": "{\n  \"name\": \"df\",\n  \"rows\": 10,\n  \"fields\": [\n    {\n      \"column\": \"image_paths\",\n      \"properties\": {\n        \"dtype\": \"string\",\n        \"samples\": [\n          \"/content/Training/pituitary_tumor/p (684).jpg\",\n          \"/content/1/3040.png\",\n          \"/content/1/2607.png\"\n        ],\n        \"num_unique_values\": 10,\n        \"semantic_type\": \"\",\n        \"description\": \"\"\n      }\n    },\n    {\n      \"column\": \"label\",\n      \"properties\": {\n        \"dtype\": \"category\",\n        \"samples\": [\n          \"1\",\n          \"2\",\n          \"3\"\n        ],\n        \"num_unique_values\": 4,\n        \"semantic_type\": \"\",\n        \"description\": \"\"\n      }\n    }\n  ]\n}"
            }
          },
          "metadata": {},
          "execution_count": 17
        }
      ],
      "source": [
        "df.sample(10)"
      ]
    },
    {
      "cell_type": "code",
      "execution_count": null,
      "metadata": {
        "id": "ms4ATnjqP_2p"
      },
      "outputs": [],
      "source": [
        "# convert_dict = {'image_paths': object,\n",
        "#                 'label': categorical\n",
        "#                 }\n",
        "# df = df.astype(convert_dict)"
      ]
    },
    {
      "cell_type": "code",
      "execution_count": null,
      "metadata": {
        "colab": {
          "base_uri": "https://localhost:8080/"
        },
        "id": "A82ceDHsPeUx",
        "outputId": "feb56e09-c1cc-466a-f1a8-f32f5b597cdc"
      },
      "outputs": [
        {
          "output_type": "stream",
          "name": "stdout",
          "text": [
            "<class 'pandas.core.frame.DataFrame'>\n",
            "Int64Index: 6328 entries, 0 to 6327\n",
            "Data columns (total 2 columns):\n",
            " #   Column       Non-Null Count  Dtype \n",
            "---  ------       --------------  ----- \n",
            " 0   image_paths  6328 non-null   object\n",
            " 1   label        6328 non-null   object\n",
            "dtypes: object(2)\n",
            "memory usage: 148.3+ KB\n"
          ]
        }
      ],
      "source": [
        "df.info()"
      ]
    },
    {
      "cell_type": "code",
      "execution_count": null,
      "metadata": {
        "id": "BLjqg7PG56v-"
      },
      "outputs": [],
      "source": [
        "# making training and testing data"
      ]
    },
    {
      "cell_type": "code",
      "execution_count": null,
      "metadata": {
        "id": "CNpWL9xL6d9v"
      },
      "outputs": [],
      "source": [
        "train, test = train_test_split(df, test_size= 0.2, random_state= 42)\n",
        "training, validation = train_test_split(train, test_size= 0.25, random_state= 42, shuffle = True)"
      ]
    },
    {
      "cell_type": "code",
      "execution_count": null,
      "metadata": {
        "id": "2cYoosIA6C_b"
      },
      "outputs": [],
      "source": [
        "target_size = (224,224)\n",
        "\n",
        "train_datagen = ImageDataGenerator(\n",
        "    rescale=1.0/255,\n",
        "    rotation_range=20,\n",
        "    width_shift_range=0.2,\n",
        "    height_shift_range=0.2,\n",
        "    shear_range=0.2,\n",
        "    zoom_range=0.2,\n",
        "    horizontal_flip=True,\n",
        "    vertical_flip=True,\n",
        "    brightness_range=[0.4,1.2],\n",
        "    fill_mode='nearest'\n",
        ")\n",
        "\n",
        "valid_test_datagen = ImageDataGenerator(\n",
        "    rescale=1.0/255\n",
        ")"
      ]
    },
    {
      "cell_type": "code",
      "execution_count": null,
      "metadata": {
        "id": "RFz6M8aw6rnL"
      },
      "outputs": [],
      "source": [
        "def create_dataset(df,is_training=False):\n",
        "  if is_training:\n",
        "    datagen = train_datagen\n",
        "  else:\n",
        "    datagen = valid_test_datagen\n",
        "\n",
        "  return datagen.flow_from_dataframe(\n",
        "      df,\n",
        "      x_col='image_paths',\n",
        "      y_col='label',\n",
        "      class_mode='categorical',\n",
        "      shuffel=is_training,\n",
        "      target_size=target_size)"
      ]
    },
    {
      "cell_type": "code",
      "execution_count": null,
      "metadata": {
        "colab": {
          "base_uri": "https://localhost:8080/"
        },
        "id": "Kv8PZHFZ7WxB",
        "outputId": "2c601980-45c4-4c11-ea5b-3e438e5c6d08"
      },
      "outputs": [
        {
          "output_type": "stream",
          "name": "stdout",
          "text": [
            "Found 3796 validated image filenames belonging to 4 classes.\n",
            "Found 1266 validated image filenames belonging to 4 classes.\n",
            "Found 1266 validated image filenames belonging to 4 classes.\n"
          ]
        }
      ],
      "source": [
        "train_dataset = create_dataset(training,is_training=True)\n",
        "test_dataset = create_dataset(test)\n",
        "validation_dataset = create_dataset(validation)"
      ]
    },
    {
      "cell_type": "code",
      "execution_count": null,
      "metadata": {
        "colab": {
          "base_uri": "https://localhost:8080/"
        },
        "id": "YoH5_IhFPBTf",
        "outputId": "8f488d2c-839f-422f-e5b3-4e239bf381b3"
      },
      "outputs": [
        {
          "output_type": "stream",
          "name": "stdout",
          "text": [
            "Downloading data from https://storage.googleapis.com/tensorflow/keras-applications/vgg16/vgg16_weights_tf_dim_ordering_tf_kernels_notop.h5\n",
            "58889256/58889256 [==============================] - 0s 0us/step\n"
          ]
        }
      ],
      "source": [
        "base = keras.applications.VGG16(weights='imagenet',include_top=False,input_shape=(224,224,3))"
      ]
    },
    {
      "cell_type": "code",
      "execution_count": null,
      "metadata": {
        "colab": {
          "base_uri": "https://localhost:8080/"
        },
        "id": "ON1l6ACm5anv",
        "outputId": "2ac4ea62-e92d-40fa-9014-cdbf162f9d1c"
      },
      "outputs": [
        {
          "output_type": "stream",
          "name": "stdout",
          "text": [
            "Model: \"vgg16\"\n",
            "_________________________________________________________________\n",
            " Layer (type)                Output Shape              Param #   \n",
            "=================================================================\n",
            " input_1 (InputLayer)        [(None, 224, 224, 3)]     0         \n",
            "                                                                 \n",
            " block1_conv1 (Conv2D)       (None, 224, 224, 64)      1792      \n",
            "                                                                 \n",
            " block1_conv2 (Conv2D)       (None, 224, 224, 64)      36928     \n",
            "                                                                 \n",
            " block1_pool (MaxPooling2D)  (None, 112, 112, 64)      0         \n",
            "                                                                 \n",
            " block2_conv1 (Conv2D)       (None, 112, 112, 128)     73856     \n",
            "                                                                 \n",
            " block2_conv2 (Conv2D)       (None, 112, 112, 128)     147584    \n",
            "                                                                 \n",
            " block2_pool (MaxPooling2D)  (None, 56, 56, 128)       0         \n",
            "                                                                 \n",
            " block3_conv1 (Conv2D)       (None, 56, 56, 256)       295168    \n",
            "                                                                 \n",
            " block3_conv2 (Conv2D)       (None, 56, 56, 256)       590080    \n",
            "                                                                 \n",
            " block3_conv3 (Conv2D)       (None, 56, 56, 256)       590080    \n",
            "                                                                 \n",
            " block3_pool (MaxPooling2D)  (None, 28, 28, 256)       0         \n",
            "                                                                 \n",
            " block4_conv1 (Conv2D)       (None, 28, 28, 512)       1180160   \n",
            "                                                                 \n",
            " block4_conv2 (Conv2D)       (None, 28, 28, 512)       2359808   \n",
            "                                                                 \n",
            " block4_conv3 (Conv2D)       (None, 28, 28, 512)       2359808   \n",
            "                                                                 \n",
            " block4_pool (MaxPooling2D)  (None, 14, 14, 512)       0         \n",
            "                                                                 \n",
            " block5_conv1 (Conv2D)       (None, 14, 14, 512)       2359808   \n",
            "                                                                 \n",
            " block5_conv2 (Conv2D)       (None, 14, 14, 512)       2359808   \n",
            "                                                                 \n",
            " block5_conv3 (Conv2D)       (None, 14, 14, 512)       2359808   \n",
            "                                                                 \n",
            " block5_pool (MaxPooling2D)  (None, 7, 7, 512)         0         \n",
            "                                                                 \n",
            "=================================================================\n",
            "Total params: 14714688 (56.13 MB)\n",
            "Trainable params: 14714688 (56.13 MB)\n",
            "Non-trainable params: 0 (0.00 Byte)\n",
            "_________________________________________________________________\n"
          ]
        }
      ],
      "source": [
        "base.summary()"
      ]
    },
    {
      "cell_type": "code",
      "execution_count": null,
      "metadata": {
        "colab": {
          "base_uri": "https://localhost:8080/"
        },
        "id": "ASWniMOsRYrF",
        "outputId": "5283d637-394b-489c-987a-e56a103cef12"
      },
      "outputs": [
        {
          "output_type": "stream",
          "name": "stdout",
          "text": [
            "False\n",
            "False\n",
            "False\n",
            "False\n",
            "False\n",
            "False\n",
            "False\n",
            "False\n",
            "False\n",
            "False\n",
            "False\n",
            "False\n",
            "True\n",
            "True\n",
            "True\n",
            "True\n",
            "True\n",
            "True\n",
            "True\n"
          ]
        }
      ],
      "source": [
        "base.trainable = False\n",
        "for layer in base.layers[-7:]:\n",
        "  layer.trainable = True\n",
        "for layer in base.layers:\n",
        "  print(layer.trainable)"
      ]
    },
    {
      "cell_type": "code",
      "execution_count": null,
      "metadata": {
        "colab": {
          "base_uri": "https://localhost:8080/"
        },
        "id": "qPmDHguU4AeD",
        "outputId": "92456648-3fcf-4b62-c946-c8f7a56824da"
      },
      "outputs": [
        {
          "output_type": "stream",
          "name": "stdout",
          "text": [
            "Model: \"sequential\"\n",
            "_________________________________________________________________\n",
            " Layer (type)                Output Shape              Param #   \n",
            "=================================================================\n",
            " vgg16 (Functional)          (None, 7, 7, 512)         14714688  \n",
            "                                                                 \n",
            " batch_normalization (Batch  (None, 7, 7, 512)         2048      \n",
            " Normalization)                                                  \n",
            "                                                                 \n",
            " flatten (Flatten)           (None, 25088)             0         \n",
            "                                                                 \n",
            " dense (Dense)               (None, 473)               11867097  \n",
            "                                                                 \n",
            " dropout (Dropout)           (None, 473)               0         \n",
            "                                                                 \n",
            " dense_1 (Dense)             (None, 4)                 1896      \n",
            "                                                                 \n",
            "=================================================================\n",
            "Total params: 26585729 (101.42 MB)\n",
            "Trainable params: 11870017 (45.28 MB)\n",
            "Non-trainable params: 14715712 (56.14 MB)\n",
            "_________________________________________________________________\n"
          ]
        }
      ],
      "source": [
        "model = Sequential()\n",
        "\n",
        "model.add(base)\n",
        "model.add(BatchNormalization())\n",
        "model.add(Flatten())\n",
        "model.add(Dense(473,activation='relu'))\n",
        "model.add(Dropout(0.08179070851723078))\n",
        "\n",
        "model.add(Dense(4,activation='softmax'))\n",
        "model.summary()"
      ]
    },
    {
      "cell_type": "code",
      "execution_count": null,
      "metadata": {
        "id": "t65huaBVSXfT"
      },
      "outputs": [],
      "source": [
        "model.compile(optimizer=keras.optimizers.SGD(learning_rate=0.0008356345045084528),loss='categorical_crossentropy',metrics=['accuracy'])"
      ]
    },
    {
      "cell_type": "code",
      "execution_count": null,
      "metadata": {
        "id": "p2n6PJCHDHlA"
      },
      "outputs": [],
      "source": [
        "from tensorflow.keras.callbacks import EarlyStopping\n",
        "early_stop = EarlyStopping(monitor='val_loss', patience=6)"
      ]
    },
    {
      "cell_type": "code",
      "execution_count": null,
      "metadata": {
        "id": "RMDjKqJCSed0",
        "colab": {
          "base_uri": "https://localhost:8080/"
        },
        "outputId": "d630961c-2f15-42bb-cb47-9c5f88acef97"
      },
      "outputs": [
        {
          "output_type": "stream",
          "name": "stdout",
          "text": [
            "Epoch 1/100\n",
            "119/119 [==============================] - 112s 852ms/step - loss: 1.2128 - accuracy: 0.4863 - val_loss: 1.0301 - val_accuracy: 0.6035\n",
            "Epoch 2/100\n",
            "119/119 [==============================] - 89s 744ms/step - loss: 0.9719 - accuracy: 0.5861 - val_loss: 0.7778 - val_accuracy: 0.6959\n",
            "Epoch 3/100\n",
            "119/119 [==============================] - 90s 759ms/step - loss: 0.8974 - accuracy: 0.6220 - val_loss: 0.6644 - val_accuracy: 0.7385\n",
            "Epoch 4/100\n",
            "119/119 [==============================] - 89s 750ms/step - loss: 0.8371 - accuracy: 0.6454 - val_loss: 0.6594 - val_accuracy: 0.7188\n",
            "Epoch 5/100\n",
            "119/119 [==============================] - 90s 759ms/step - loss: 0.7932 - accuracy: 0.6636 - val_loss: 0.6002 - val_accuracy: 0.7457\n",
            "Epoch 6/100\n",
            "119/119 [==============================] - 98s 824ms/step - loss: 0.7734 - accuracy: 0.6768 - val_loss: 0.5671 - val_accuracy: 0.7622\n",
            "Epoch 7/100\n",
            "119/119 [==============================] - 90s 759ms/step - loss: 0.7500 - accuracy: 0.6936 - val_loss: 0.5812 - val_accuracy: 0.7607\n",
            "Epoch 8/100\n",
            "119/119 [==============================] - 88s 740ms/step - loss: 0.7084 - accuracy: 0.7047 - val_loss: 0.5918 - val_accuracy: 0.7615\n",
            "Epoch 9/100\n",
            "119/119 [==============================] - 90s 755ms/step - loss: 0.7095 - accuracy: 0.7092 - val_loss: 0.5431 - val_accuracy: 0.7717\n",
            "Epoch 10/100\n",
            "119/119 [==============================] - 88s 737ms/step - loss: 0.6918 - accuracy: 0.7129 - val_loss: 0.5414 - val_accuracy: 0.7765\n",
            "Epoch 11/100\n",
            "119/119 [==============================] - 90s 757ms/step - loss: 0.6774 - accuracy: 0.7268 - val_loss: 0.5049 - val_accuracy: 0.7883\n",
            "Epoch 12/100\n",
            "119/119 [==============================] - 88s 743ms/step - loss: 0.6473 - accuracy: 0.7410 - val_loss: 0.5493 - val_accuracy: 0.7757\n",
            "Epoch 13/100\n",
            "119/119 [==============================] - 89s 742ms/step - loss: 0.6523 - accuracy: 0.7292 - val_loss: 0.5477 - val_accuracy: 0.7765\n",
            "Epoch 14/100\n",
            "119/119 [==============================] - 89s 746ms/step - loss: 0.6373 - accuracy: 0.7360 - val_loss: 0.5417 - val_accuracy: 0.7796\n",
            "Epoch 15/100\n",
            "119/119 [==============================] - 87s 733ms/step - loss: 0.6265 - accuracy: 0.7392 - val_loss: 0.4811 - val_accuracy: 0.8002\n",
            "Epoch 16/100\n",
            "119/119 [==============================] - 90s 755ms/step - loss: 0.6271 - accuracy: 0.7450 - val_loss: 0.5422 - val_accuracy: 0.7812\n",
            "Epoch 17/100\n",
            "119/119 [==============================] - 89s 751ms/step - loss: 0.6193 - accuracy: 0.7426 - val_loss: 0.5153 - val_accuracy: 0.7899\n",
            "Epoch 18/100\n",
            "119/119 [==============================] - 88s 738ms/step - loss: 0.6151 - accuracy: 0.7521 - val_loss: 0.4988 - val_accuracy: 0.8009\n",
            "Epoch 19/100\n",
            "119/119 [==============================] - 91s 759ms/step - loss: 0.5996 - accuracy: 0.7558 - val_loss: 0.5188 - val_accuracy: 0.7907\n",
            "Epoch 20/100\n",
            "119/119 [==============================] - 92s 774ms/step - loss: 0.5904 - accuracy: 0.7584 - val_loss: 0.4722 - val_accuracy: 0.8096\n",
            "Epoch 21/100\n",
            "119/119 [==============================] - 91s 765ms/step - loss: 0.5890 - accuracy: 0.7608 - val_loss: 0.4761 - val_accuracy: 0.8033\n",
            "Epoch 22/100\n",
            "119/119 [==============================] - 89s 748ms/step - loss: 0.5750 - accuracy: 0.7684 - val_loss: 0.4582 - val_accuracy: 0.8041\n",
            "Epoch 23/100\n",
            "119/119 [==============================] - 91s 765ms/step - loss: 0.5770 - accuracy: 0.7637 - val_loss: 0.4733 - val_accuracy: 0.8096\n",
            "Epoch 24/100\n",
            "119/119 [==============================] - 90s 756ms/step - loss: 0.5743 - accuracy: 0.7684 - val_loss: 0.4617 - val_accuracy: 0.8128\n",
            "Epoch 25/100\n",
            "119/119 [==============================] - 91s 768ms/step - loss: 0.5689 - accuracy: 0.7732 - val_loss: 0.4533 - val_accuracy: 0.8191\n",
            "Epoch 26/100\n",
            "119/119 [==============================] - 91s 766ms/step - loss: 0.5671 - accuracy: 0.7629 - val_loss: 0.4503 - val_accuracy: 0.8160\n",
            "Epoch 27/100\n",
            "119/119 [==============================] - 90s 757ms/step - loss: 0.5589 - accuracy: 0.7732 - val_loss: 0.4493 - val_accuracy: 0.8183\n",
            "Epoch 28/100\n",
            "119/119 [==============================] - 90s 758ms/step - loss: 0.5534 - accuracy: 0.7769 - val_loss: 0.4389 - val_accuracy: 0.8175\n",
            "Epoch 29/100\n",
            "119/119 [==============================] - 89s 746ms/step - loss: 0.5565 - accuracy: 0.7811 - val_loss: 0.4563 - val_accuracy: 0.8246\n",
            "Epoch 30/100\n",
            "119/119 [==============================] - 88s 737ms/step - loss: 0.5450 - accuracy: 0.7758 - val_loss: 0.4167 - val_accuracy: 0.8294\n",
            "Epoch 31/100\n",
            "119/119 [==============================] - 89s 747ms/step - loss: 0.5451 - accuracy: 0.7887 - val_loss: 0.4407 - val_accuracy: 0.8231\n",
            "Epoch 32/100\n",
            "119/119 [==============================] - 89s 747ms/step - loss: 0.5379 - accuracy: 0.7819 - val_loss: 0.4705 - val_accuracy: 0.8104\n",
            "Epoch 33/100\n",
            "119/119 [==============================] - 89s 750ms/step - loss: 0.5361 - accuracy: 0.7853 - val_loss: 0.4354 - val_accuracy: 0.8325\n",
            "Epoch 34/100\n",
            "119/119 [==============================] - 90s 755ms/step - loss: 0.5399 - accuracy: 0.7792 - val_loss: 0.4237 - val_accuracy: 0.8262\n",
            "Epoch 35/100\n",
            "119/119 [==============================] - 89s 745ms/step - loss: 0.5252 - accuracy: 0.7848 - val_loss: 0.4308 - val_accuracy: 0.8239\n",
            "Epoch 36/100\n",
            "119/119 [==============================] - 89s 749ms/step - loss: 0.5134 - accuracy: 0.7929 - val_loss: 0.4264 - val_accuracy: 0.8231\n"
          ]
        }
      ],
      "source": [
        "history = model.fit(train_dataset,epochs=100,validation_data=validation_dataset,callbacks=[early_stop])"
      ]
    },
    {
      "cell_type": "markdown",
      "source": [
        "**Parameter** **tunung** **using** **Optuna**"
      ],
      "metadata": {
        "id": "M5v3uHz03_Yk"
      }
    },
    {
      "cell_type": "code",
      "execution_count": null,
      "metadata": {
        "id": "7wbi0lqLToX2"
      },
      "outputs": [],
      "source": [
        "# !pip install optuna\n",
        "# import optuna"
      ]
    },
    {
      "cell_type": "code",
      "execution_count": null,
      "metadata": {
        "id": "bVjlK_mgTo0C"
      },
      "outputs": [],
      "source": [
        "# def create_model(trial):\n",
        "#   loaded_model = keras.applications.VGG16(weights='imagenet',include_top=False,input_shape=(224,224,3))\n",
        "\n",
        "#   N = trial.suggest_int(\"unfreeze_layers\",1,17)\n",
        "#   for layer in loaded_model.layers[-N:]:\n",
        "#     layer.trainable = True\n",
        "\n",
        "#   learning_rate = trial.suggest_float('learning_rate',1e-5,1e-2,log=True)\n",
        "\n",
        "#   model = Sequential()\n",
        "#   for layer in loaded_model.layers[:-1]:\n",
        "#     model.add(layer)\n",
        "#     model.add(Dropout(0.25))\n",
        "#     model.add(Dense(4,activation='softmax'))\n",
        "\n",
        "#     optimizer = keras.optimizers.SGD(learning_rate=learning_rate,momentum=0.9)\n",
        "#     model.compile(optimizer=optimizer,loss='categorical_crossentropy',metrics=['accuracy'])\n",
        "\n",
        "#     return model\n"
      ]
    },
    {
      "cell_type": "code",
      "execution_count": null,
      "metadata": {
        "id": "n3niMPvyTpLe"
      },
      "outputs": [],
      "source": [
        "# from keras.models import Model\n",
        "# def objective(trial):\n",
        "#   base_model = keras.applications.VGG16(weights='imagenet',include_top = False,input_shape=(224,224,3))\n",
        "\n",
        "#   for layer in base_model.layers[:-trial.suggest_int('unfreeze_layers',1,10)]:\n",
        "#     layer.trainable = False\n",
        "#   base_model_output = base_model.output\n",
        "#   x = Flatten()(base_model_output)\n",
        "#   for _ in range(trial.suggest_int('fc_layers',1,5)):\n",
        "#     x = Dense(trial.suggest_int('fc_units',64,512),activation='relu')(x)\n",
        "#   output = Dense(4,activation='softmax')(x)\n",
        "\n",
        "#   model = Model(inputs=base_model.input,outputs=output)\n",
        "\n",
        "#   model.compile(optimizer=keras.optimizers.SGD(learning_rate = trial.suggest_float('learning_rate',1e-5,1e-2,log=True),momentum=0.9), loss='categorical_crossentropy', metrics=['accuracy'])\n",
        "#   model.fit(train_dataset,epochs=5,batch_size=32,validation_data=validation_dataset)\n",
        "#   val_loss,val_accuracy = model.evaluate(validation_dataset)\n",
        "#   return val_accuracy\n",
        "# study = optuna.create_study(direction='maximize')\n",
        "# study.optimize(objective, n_trials=20)"
      ]
    },
    {
      "cell_type": "code",
      "execution_count": null,
      "metadata": {
        "id": "-TQM2dVrTqJK"
      },
      "outputs": [],
      "source": [
        "# best_params = study.best_params\n",
        "# print(\"Best Hyperparameters:\", best_params)"
      ]
    },
    {
      "cell_type": "code",
      "execution_count": null,
      "metadata": {
        "id": "B6W9y0e14ce4"
      },
      "outputs": [],
      "source": []
    }
  ],
  "metadata": {
    "accelerator": "GPU",
    "colab": {
      "gpuType": "T4",
      "provenance": [],
      "include_colab_link": true
    },
    "kernelspec": {
      "display_name": "Python 3",
      "name": "python3"
    },
    "language_info": {
      "name": "python"
    }
  },
  "nbformat": 4,
  "nbformat_minor": 0
}